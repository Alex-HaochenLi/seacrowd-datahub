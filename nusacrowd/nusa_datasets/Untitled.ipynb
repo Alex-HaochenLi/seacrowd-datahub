{
 "cells": [
  {
   "cell_type": "code",
   "execution_count": 8,
   "id": "bdd0b8ad-8f3c-4b95-b70c-00b065667ac9",
   "metadata": {},
   "outputs": [],
   "source": [
    "import os, sys\n",
    "from glob import glob"
   ]
  },
  {
   "cell_type": "code",
   "execution_count": 9,
   "id": "defec7a1-2265-4e61-9a08-fbdc8163926a",
   "metadata": {},
   "outputs": [],
   "source": [
    "for folder_path in list(map(lambda x: x.split('/')[0], filter(lambda x: '__init__.py' not in x, glob('*/*.py')))):\n",
    "    if not os.path.exists(f'{folder_path}/__init__.pt'):\n",
    "        open(f'{folder_path}/__init__.py', 'w').close()"
   ]
  },
  {
   "cell_type": "code",
   "execution_count": null,
   "id": "a05736c3-2045-4e3d-a5c0-4a904196da62",
   "metadata": {},
   "outputs": [],
   "source": []
  }
 ],
 "metadata": {
  "kernelspec": {
   "display_name": "Python 3 (ipykernel)",
   "language": "python",
   "name": "python3"
  },
  "language_info": {
   "codemirror_mode": {
    "name": "ipython",
    "version": 3
   },
   "file_extension": ".py",
   "mimetype": "text/x-python",
   "name": "python",
   "nbconvert_exporter": "python",
   "pygments_lexer": "ipython3",
   "version": "3.7.4"
  }
 },
 "nbformat": 4,
 "nbformat_minor": 5
}
